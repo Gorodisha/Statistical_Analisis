{
 "cells": [
  {
   "cell_type": "code",
   "execution_count": 75,
   "metadata": {},
   "outputs": [],
   "source": [
    "#подгружаю пакетики с запасом\n",
    "import numpy as np\n",
    "import math\n",
    "import sympy as sy\n",
    "from scipy.misc import derivative\n",
    "import seaborn as sns\n",
    "import matplotlib.pyplot as plt\n",
    "%matplotlib inline\n",
    "import pandas as pd\n",
    "import plotly.express as px\n",
    "import plotly.graph_objects as go\n",
    "from scipy.stats import chi2_contingency"
   ]
  },
  {
   "cell_type": "code",
   "execution_count": 65,
   "metadata": {},
   "outputs": [],
   "source": [
    "# Загружаю данные, называю их 'mydata'. Обращаю внимание на параметр функции read_csv (из пакета pandas): decimal=\",\". \n",
    "# В исходном файле  десятичный разделитель - это запятая. Питон привык думать, что запятая должна разделять что угодно, но не целую часть\n",
    "# числа от дробной. Этот параметр изменяет запятые в цифрах на точки. Теперь питон поймет, что перед ним число, а не какой-то объект.\n",
    "\n",
    "mydata = pd.read_csv('C:\\\\Users\\\\alina\\\\Downloads\\\\pca2.csv',sep=';', engine='python', header=None, na_values='?',decimal=\",\",delimiter=\";\")"
   ]
  },
  {
   "cell_type": "code",
   "execution_count": 66,
   "metadata": {},
   "outputs": [
    {
     "data": {
      "text/html": [
       "<div>\n",
       "<style scoped>\n",
       "    .dataframe tbody tr th:only-of-type {\n",
       "        vertical-align: middle;\n",
       "    }\n",
       "\n",
       "    .dataframe tbody tr th {\n",
       "        vertical-align: top;\n",
       "    }\n",
       "\n",
       "    .dataframe thead th {\n",
       "        text-align: right;\n",
       "    }\n",
       "</style>\n",
       "<table border=\"1\" class=\"dataframe\">\n",
       "  <thead>\n",
       "    <tr style=\"text-align: right;\">\n",
       "      <th></th>\n",
       "      <th>0</th>\n",
       "      <th>1</th>\n",
       "      <th>2</th>\n",
       "      <th>3</th>\n",
       "      <th>4</th>\n",
       "    </tr>\n",
       "  </thead>\n",
       "  <tbody>\n",
       "    <tr>\n",
       "      <td>0</td>\n",
       "      <td>68.9</td>\n",
       "      <td>1060</td>\n",
       "      <td>7.8</td>\n",
       "      <td>5.5</td>\n",
       "      <td>25.3</td>\n",
       "    </tr>\n",
       "    <tr>\n",
       "      <td>1</td>\n",
       "      <td>68.1</td>\n",
       "      <td>1101</td>\n",
       "      <td>9.5</td>\n",
       "      <td>15.3</td>\n",
       "      <td>28.0</td>\n",
       "    </tr>\n",
       "    <tr>\n",
       "      <td>2</td>\n",
       "      <td>67.6</td>\n",
       "      <td>1147</td>\n",
       "      <td>10.1</td>\n",
       "      <td>30.2</td>\n",
       "      <td>30.0</td>\n",
       "    </tr>\n",
       "    <tr>\n",
       "      <td>3</td>\n",
       "      <td>69.2</td>\n",
       "      <td>1204</td>\n",
       "      <td>10.0</td>\n",
       "      <td>44.5</td>\n",
       "      <td>23.5</td>\n",
       "    </tr>\n",
       "    <tr>\n",
       "      <td>4</td>\n",
       "      <td>69.2</td>\n",
       "      <td>1602</td>\n",
       "      <td>9.8</td>\n",
       "      <td>58.6</td>\n",
       "      <td>18.0</td>\n",
       "    </tr>\n",
       "    <tr>\n",
       "      <td>5</td>\n",
       "      <td>64.6</td>\n",
       "      <td>1893</td>\n",
       "      <td>5.5</td>\n",
       "      <td>93.3</td>\n",
       "      <td>38.4</td>\n",
       "    </tr>\n",
       "    <tr>\n",
       "      <td>6</td>\n",
       "      <td>67.0</td>\n",
       "      <td>2777</td>\n",
       "      <td>6.2</td>\n",
       "      <td>122.0</td>\n",
       "      <td>29.6</td>\n",
       "    </tr>\n",
       "  </tbody>\n",
       "</table>\n",
       "</div>"
      ],
      "text/plain": [
       "      0     1     2      3     4\n",
       "0  68.9  1060   7.8    5.5  25.3\n",
       "1  68.1  1101   9.5   15.3  28.0\n",
       "2  67.6  1147  10.1   30.2  30.0\n",
       "3  69.2  1204  10.0   44.5  23.5\n",
       "4  69.2  1602   9.8   58.6  18.0\n",
       "5  64.6  1893   5.5   93.3  38.4\n",
       "6  67.0  2777   6.2  122.0  29.6"
      ]
     },
     "execution_count": 66,
     "metadata": {},
     "output_type": "execute_result"
    }
   ],
   "source": [
    "# Посмотрим на наш датасет. Жалко, что без имен ):\n",
    "mydata"
   ]
  },
  {
   "cell_type": "code",
   "execution_count": 88,
   "metadata": {},
   "outputs": [
    {
     "name": "stdout",
     "output_type": "stream",
     "text": [
      "          0         1         2         3         4\n",
      "0  1.000000 -0.500840  0.769223 -0.595292 -0.934048\n",
      "1 -0.500840  1.000000 -0.700093  0.953664  0.296602\n",
      "2  0.769223 -0.700093  1.000000 -0.669180 -0.680883\n",
      "3 -0.595292  0.953664 -0.669180  1.000000  0.370110\n",
      "4 -0.934048  0.296602 -0.680883  0.370110  1.000000\n",
      "Определитель корреляционной матрицы равен:\n",
      "0.0008300750172535987\n"
     ]
    }
   ],
   "source": [
    "# Перед тем, как создавать функцию, оценим наши шансы на применимость PCA. \n",
    "\n",
    "#Строим корреляционную матрицу \n",
    "corr_matrix = mydata.corr()\n",
    "print(corr_matrix)\n",
    "\n",
    "print('Определитель корреляционной матрицы равен:')\n",
    "print(np.linalg.det(corr_matrix))"
   ]
  },
  {
   "cell_type": "code",
   "execution_count": 115,
   "metadata": {},
   "outputs": [
    {
     "name": "stdout",
     "output_type": "stream",
     "text": [
      "Некоторые переменные взаимосвязаны. Возможно, стоит применить РСА.\n"
     ]
    }
   ],
   "source": [
    "#По матрице, в целом, видно, что многие переменные зависимы. Но код должен быть универсальным.\n",
    "# Запустим цикл: пусть программа сама ищет в корреляционной матрице значения, по модулю большие, чем хотя бы 0.8\n",
    "# Отметим, что статистики принимают гипотезу о зависимости 2х факторов, если r>0.3, но мы осуществим более строгий отбор.\n",
    "#Таким образом, программа выдаст нам свои предположения о возможности применения PCA. Но это еще не конец.\n",
    "\n",
    "for i in range(len(corr_matrix)):\n",
    "    for j in range(len(corr_matrix)):\n",
    "        if abs(corr_matrix[i][j]) > 0.8:\n",
    "            print('Некоторые переменные взаимосвязаны. Возможно, стоит применить РСА.')\n",
    "            break\n",
    "        else: \n",
    "            print('Нет взаимосвязанных переменных. Возможно, не стоит применить РСА.')\n",
    "    break       "
   ]
  },
  {
   "cell_type": "code",
   "execution_count": 208,
   "metadata": {},
   "outputs": [
    {
     "name": "stdout",
     "output_type": "stream",
     "text": [
      "test Statistics: 156.28817741484394\n",
      "degrees of freedom: 24\n",
      "p-value: 2.2285372917153736e-21\n",
      " Нулевая гипотеза отклоняется на уровне 5%. Можно эффективно применить PCA для исследуемого набора данных. p_value= 2.2285372917153736e-21 <0.05\n"
     ]
    }
   ],
   "source": [
    "#ТЕСТ СФЕРИЧНОСТИ БАРЛЕТТА\n",
    "\n",
    "#Создадим функцию от переменной - наш датасет (любой). Эта фунция вычисляет критерий Хи-квадрат для нашего датасета и сравнивает его \n",
    "# с критическим значением. Итог: программа скажет, можно ли применять PCA и почему. Также я оставила вывод расчетов критерия:\n",
    "#chi2 (test Statistics) - это значение самого критерия. df(degrees of freedom) - это число степеней сводобы. p_value - значимость нашего критерия.\n",
    "\n",
    "def Barlet_krit(data):\n",
    "    data = mydata\n",
    "    chi2, p_value, df, expected = chi2_contingency(data)\n",
    "    output = \"test Statistics: {}\\ndegrees of freedom: {}\\np-value: {}\\n\"\n",
    "    if prob<0.05:\n",
    "        result = print(output.format( chi2, df, p_value),'Нулевая гипотеза отклоняется на уровне 5%. Можно эффективно применить PCA для исследуемого набора данных. p_value=' , p_value, '<0.05')\n",
    "    else:\n",
    "        result =print(output.format( chi2, df, p_value),'Нулевая гипотеза отвергается на уровне 5%. Не рекомендуется применение PCA для исследуемого набора данных. p_value=', p_value, '>0.05')\n",
    "    return result\n",
    "\n",
    "# Проверим, как работает наша функция (как надо, убедились)\n",
    "Barlet_krit(mydata)"
   ]
  },
  {
   "cell_type": "code",
   "execution_count": 170,
   "metadata": {},
   "outputs": [],
   "source": [
    "# КРИТЕРИЙ КМО\n",
    "#Если нужна функция - см. конец. Здесь я буду объяснять куски своего кода, чтобы функция потом по ночам не снилась.\n",
    "\n",
    "#Подготовим данные для нашей функции. Для начала, с помощью метода inv из пакета numpy вычислим обратную матрицу корреляций.\n",
    "corr_matrix_inv=np.linalg.inv(corr_matrix)"
   ]
  },
  {
   "cell_type": "code",
   "execution_count": 177,
   "metadata": {},
   "outputs": [],
   "source": [
    "#Создаем пустой лист, куда на каждой итерации будет добавляться новое значение.\n",
    "vector_chastn_corr=[]\n",
    "\n",
    "#А вот и цикл. Здесь мы по определению счиатем матрицу частных корреляций (тк в питоне нет встроенной функции для ее расчета).\n",
    "# Теперь наша переменная, которую мы создали ранее - vector_chastn_corr - наполнилась значениями матрицы частных корреляций. Но есть проблема.\n",
    "for k in range(len(corr_matrix_inv)):\n",
    "    for l in range(len(corr_matrix_inv)):\n",
    "        vector_chastn_corr.append(-(corr_matrix_inv[k][l]/np.sqrt(corr_matrix_inv[k][k]*corr_matrix_inv[l][l])))"
   ]
  },
  {
   "cell_type": "code",
   "execution_count": 178,
   "metadata": {},
   "outputs": [],
   "source": [
    "# Здесь решим эту проблему. Наша матрица пока еще не матрица, а список. Сначала сделаем ее вектором:\n",
    "vector_chastn_corr=np.array(vector_chastn_corr)\n",
    "\n",
    "# А теперь из вектора соберем матрицу нужного размера (такого же, как и обратная матрица)\n",
    "martix_chastn_corr=vector_chastn_corr.reshape(corr_matrix_inv.shape)"
   ]
  },
  {
   "cell_type": "code",
   "execution_count": 179,
   "metadata": {},
   "outputs": [
    {
     "data": {
      "text/plain": [
       "array([[-1.        ,  0.40370415,  0.30446504, -0.60281488, -0.90574968],\n",
       "       [ 0.40370415, -1.        , -0.58399811,  0.92064463,  0.17107425],\n",
       "       [ 0.30446504, -0.58399811, -1.        ,  0.40912531, -0.01735923],\n",
       "       [-0.60281488,  0.92064463,  0.40912531, -1.        , -0.40569733],\n",
       "       [-0.90574968,  0.17107425, -0.01735923, -0.40569733, -1.        ]])"
      ]
     },
     "execution_count": 179,
     "metadata": {},
     "output_type": "execute_result"
    }
   ],
   "source": [
    "# Посмотрим на нашу матрицу частных корреляций. Аномалий нет, можно работать дальше.\n",
    "martix_chastn_corr"
   ]
  },
  {
   "cell_type": "code",
   "execution_count": 219,
   "metadata": {},
   "outputs": [
    {
     "data": {
      "text/plain": [
       "0.6063666429300164"
      ]
     },
     "execution_count": 219,
     "metadata": {},
     "output_type": "execute_result"
    }
   ],
   "source": [
    "#Создаем снова списки-накопители результатов каждой итерации - для элементов корреляционной матрицы\n",
    "# И для элементов матрицы частных корреляций. Потом найдем их сумму.\n",
    "sum_corr=[]\n",
    "sum_chastn =[]\n",
    "\n",
    "#Добавляем в списки квадрат каждого элемента каждой матрицы (кроме тех, где i=j) в созданные выше списки\n",
    "# Суммируем элементы каждого списка\n",
    "for i in range(len(corr_matrix_inv)):\n",
    "    for j in range(len(martix_chastn_corr)):\n",
    "        if i != j:\n",
    "            sum_corr.append (corr_matrix[i][j]**2)\n",
    "            sum_chastn.append(martix_chastn_corr[i][j]**2)\n",
    "#считаем критерий КМО. Как видим, он хорош, значит функция должна разрешить нам применить PCA. Посмотрим(:         \n",
    "sum(sum_corr)/(sum(sum_corr)+sum(sum_chastn))"
   ]
  },
  {
   "cell_type": "code",
   "execution_count": 220,
   "metadata": {},
   "outputs": [],
   "source": [
    "# Это функция. Все ее элементы кода расписаны выше. Я просто здесь собрала пазл из кусочков моего кода. \n",
    "\n",
    "def krit_KMO(mydata):\n",
    "    corr_matrix = mydata.corr()\n",
    "    corr_matrix_inv=np.linalg.inv(corr_matrix)\n",
    "    vector_chastn_corr=[]\n",
    "    for k in range(len(corr_matrix_inv)):\n",
    "        for l in range(len(corr_matrix_inv)):\n",
    "            vector_chastn_corr.append(-(corr_matrix_inv[k][l]/np.sqrt(corr_matrix_inv[k][k]*corr_matrix_inv[l][l])))\n",
    "    vector_chastn_corr=np.array(vector_chastn_corr)\n",
    "    martix_chastn_corr=vector_chastn_corr.reshape(corr_matrix_inv.shape)\n",
    "    sum_corr=[]\n",
    "    sum_chastn =[]\n",
    "    for i in range(len(corr_matrix_inv)):\n",
    "        for j in range(len(martix_chastn_corr)):\n",
    "            if i != j:\n",
    "                sum_corr.append (corr_matrix[i][j]**2)\n",
    "                sum_chastn.append(martix_chastn_corr[i][j]**2)\n",
    "    result =  sum(sum_corr)/(sum(sum_corr)+sum(sum_chastn))\n",
    "    if result >0.6:\n",
    "        output = print('Метод PCA применим, так как индекс КМО =', result)\n",
    "    else:\n",
    "        output = print('Метод PCA не применим, так как индекс КМО =', result)\n",
    "    return output"
   ]
  },
  {
   "cell_type": "code",
   "execution_count": 221,
   "metadata": {},
   "outputs": [
    {
     "name": "stdout",
     "output_type": "stream",
     "text": [
      "Метод PCA применим, так как индекс КМО = 0.6063666429300164\n"
     ]
    }
   ],
   "source": [
    "# Проверим, как работает:\n",
    "krit_KMO(mydata)"
   ]
  },
  {
   "cell_type": "code",
   "execution_count": null,
   "metadata": {},
   "outputs": [],
   "source": []
  },
  {
   "cell_type": "code",
   "execution_count": null,
   "metadata": {},
   "outputs": [],
   "source": []
  },
  {
   "cell_type": "code",
   "execution_count": null,
   "metadata": {},
   "outputs": [],
   "source": []
  }
 ],
 "metadata": {
  "kernelspec": {
   "display_name": "Python 3",
   "language": "python",
   "name": "python3"
  },
  "language_info": {
   "codemirror_mode": {
    "name": "ipython",
    "version": 3
   },
   "file_extension": ".py",
   "mimetype": "text/x-python",
   "name": "python",
   "nbconvert_exporter": "python",
   "pygments_lexer": "ipython3",
   "version": "3.7.4"
  }
 },
 "nbformat": 4,
 "nbformat_minor": 2
}
